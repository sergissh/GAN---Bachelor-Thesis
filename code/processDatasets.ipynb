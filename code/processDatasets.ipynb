{
 "cells": [
  {
   "attachments": {},
   "cell_type": "markdown",
   "metadata": {},
   "source": [
    "### Process Datasets"
   ]
  },
  {
   "attachments": {},
   "cell_type": "markdown",
   "metadata": {},
   "source": [
    "In this notebook we'll process the data in order to use it later in the training of the neural networks, and apply the metrics that will indicate the results obtained by them."
   ]
  },
  {
   "attachments": {},
   "cell_type": "markdown",
   "metadata": {},
   "source": [
    "Import All The Libraries"
   ]
  },
  {
   "cell_type": "code",
   "execution_count": 9,
   "metadata": {},
   "outputs": [],
   "source": [
    "import gzip\n",
    "import os, shutil\n",
    "from os.path import isfile, join\n",
    "from PIL import Image\n",
    "import zipfile\n",
    "import numpy as np\n",
    "import cv2 as cv2\n",
    "\n",
    "mnist_raw_path = './../raw_data/MNIST/raw/'\n",
    "mnist_new_path = '../datasets/'"
   ]
  },
  {
   "attachments": {},
   "cell_type": "markdown",
   "metadata": {},
   "source": [
    "This function will list all the required files for the MNIST Dataset."
   ]
  },
  {
   "cell_type": "code",
   "execution_count": 10,
   "metadata": {},
   "outputs": [],
   "source": [
    "def list_files(path):\n",
    "    return [join(path, f) for f in os.listdir(path) if isfile(join(mnist_raw_path, f))]"
   ]
  },
  {
   "cell_type": "code",
   "execution_count": 11,
   "metadata": {},
   "outputs": [
    {
     "name": "stdout",
     "output_type": "stream",
     "text": [
      "./../raw_data/MNIST/raw/t10k-images-idx3-ubyte.gz\n",
      "./../raw_data/MNIST/raw/t10k-labels-idx1-ubyte.gz\n",
      "./../raw_data/MNIST/raw/train-images-idx3-ubyte.gz\n",
      "./../raw_data/MNIST/raw/train-labels-idx1-ubyte.gz\n"
     ]
    }
   ],
   "source": [
    "for f in list_files(mnist_raw_path): print(f)"
   ]
  },
  {
   "cell_type": "code",
   "execution_count": 12,
   "metadata": {},
   "outputs": [],
   "source": [
    "def get_images(mnist_path):\n",
    "    for f in list_files(mnist_path):\n",
    "        if \"train-images\" in f:\n",
    "            with gzip.open(f, 'rb') as data:                                 #RB = Read Binary\n",
    "                _ = int.from_bytes(data.read(4), 'big')                      #Magic Number = Useless\n",
    "                num_imgs = int.from_bytes(data.read(4), 'big')             #Number of Images\n",
    "                rows = int.from_bytes(data.read(4), 'big')                   #Number of Rows\n",
    "                cols = int.from_bytes(data.read(4), 'big')                #Number of Columns\n",
    "                train_imgs = data.read()                                     #Read all last bytes\n",
    "                x_train = np.frombuffer(train_imgs, dtype = np.uint8)      \n",
    "                x_train = x_train.reshape((num_imgs, rows, cols))\n",
    "                \n",
    "        elif \"t10k-images\" in f:\n",
    "            with gzip.open(f, 'rb') as data:                                 \n",
    "                _ = int.from_bytes(data.read(4), 'big')                     \n",
    "                num_imgs = int.from_bytes(data.read(4), 'big')             \n",
    "                rows = int.from_bytes(data.read(4), 'big')                   \n",
    "                cols = int.from_bytes(data.read(4), 'big')                \n",
    "                test_imgs = data.read()                                     \n",
    "                x_test = np.frombuffer(test_imgs, dtype = np.uint8)      \n",
    "                x_test = x_test.reshape((num_imgs, rows, cols))\n",
    "                \n",
    "    a = np.concatenate((x_test, x_train), axis=0)\n",
    "\n",
    "    return a\n"
   ]
  },
  {
   "cell_type": "code",
   "execution_count": 13,
   "metadata": {},
   "outputs": [
    {
     "name": "stdout",
     "output_type": "stream",
     "text": [
      "Training Shape (70000, 28, 28)\n"
     ]
    }
   ],
   "source": [
    "data = get_images(mnist_raw_path)\n",
    "print(\"Training Shape\", data.shape)"
   ]
  },
  {
   "cell_type": "code",
   "execution_count": 8,
   "metadata": {},
   "outputs": [],
   "source": [
    "#Para probar el customLoader\n",
    "counter = 1\n",
    "for i in data[:300]:\n",
    "    filename = \"mnist_\" + str(counter) + \".jpeg\"\n",
    "    im = Image.fromarray(i)\n",
    "    im.save('./../datasets/pruebas/pruebas2/' + filename)\n",
    "    counter+=1"
   ]
  },
  {
   "cell_type": "code",
   "execution_count": 14,
   "metadata": {},
   "outputs": [],
   "source": [
    "def SaveZipImages(images, dest_folder, num_samples, dataset):\n",
    "        '''\n",
    "        images:\n",
    "                --> MNIST: array of Images\n",
    "                --> CELEBA: path for Images Zip\n",
    "                --> CIFAR: ... \n",
    "        '''\n",
    "        counter = 1\n",
    "        new_folder = dest_folder+dataset+'_'+str(num_samples) # ../datasets/mnist_xxxx\n",
    "        if not os.path.exists(new_folder):\n",
    "                os.makedirs(new_folder)\n",
    "        folder = new_folder + '/' + dataset + '_'+ str(num_samples)\n",
    "        if not os.path.exists(folder):\n",
    "                os.makedirs(folder)\n",
    "        if dataset == 'MNIST':\n",
    "                for i in images[:num_samples]:\n",
    "                        filename = \"mnist_\" + str(counter) + \".jpeg\"\n",
    "                        im = Image.fromarray(i)\n",
    "                        im.save(folder +\"/\" +filename)\n",
    "                        counter+=1\n",
    "\n",
    "        if dataset == 'CELEBA':\n",
    "                imgzip = zipfile.ZipFile(images)\n",
    "                for f in imgzip.infolist()[1:num_samples]:\n",
    "                        filename = 'celeba_'+str(counter)+'.jpeg'\n",
    "                        img = Image.open(imgzip.open(f))\n",
    "                        img.save(folder +\"/\" +filename)\n",
    "                        counter+=1\n",
    "                \n",
    "        shutil.make_archive(dataset+\"_\"+str(num_samples), format='zip', root_dir=\"./\"+new_folder)\n",
    "        shutil.rmtree(new_folder)\n",
    "        shutil.move(dataset+'_'+str(num_samples)+'.zip', './../datasets/')\n"
   ]
  },
  {
   "cell_type": "code",
   "execution_count": 16,
   "metadata": {},
   "outputs": [],
   "source": [
    "dest_folder = '../datasets/'\n",
    "celeba_raw_path = './../raw_data/img_align_celeba.zip'\n",
    "SaveZipImages(images=data, dest_folder=dest_folder, num_samples=70000, dataset='MNIST')\n",
    "SaveZipImages(images=celeba_raw_path, dest_folder=dest_folder, num_samples=70000, dataset='CELEBA')\n",
    "SaveZipImages(images=data, dest_folder=dest_folder, num_samples=30000, dataset='MNIST')\n",
    "SaveZipImages(images=celeba_raw_path, dest_folder=dest_folder, num_samples=30000, dataset='CELEBA')\n"
   ]
  }
 ],
 "metadata": {
  "kernelspec": {
   "display_name": "Python 3",
   "language": "python",
   "name": "python3"
  },
  "language_info": {
   "codemirror_mode": {
    "name": "ipython",
    "version": 3
   },
   "file_extension": ".py",
   "mimetype": "text/x-python",
   "name": "python",
   "nbconvert_exporter": "python",
   "pygments_lexer": "ipython3",
   "version": "3.10.11"
  },
  "orig_nbformat": 4,
  "vscode": {
   "interpreter": {
    "hash": "c9f720d4a50e0ba5aa69623f68d137acec6fc5c768c19cb49aa25e6a1ca4140a"
   }
  }
 },
 "nbformat": 4,
 "nbformat_minor": 2
}
